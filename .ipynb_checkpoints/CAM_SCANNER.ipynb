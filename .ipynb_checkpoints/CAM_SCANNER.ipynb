{
 "cells": [
  {
   "cell_type": "markdown",
   "id": "85e5f008-a58c-449b-8369-50fb36a5f7d6",
   "metadata": {},
   "source": [
    "## IMPORT THE LIBRARIES"
   ]
  },
  {
   "cell_type": "code",
   "execution_count": 2,
   "id": "d7a4325c-d697-4a8f-91d6-201937463b45",
   "metadata": {},
   "outputs": [],
   "source": [
    "import numpy as np\n",
    "import matplotlib.pyplot as plt\n",
    "import cv2\n",
    "\n",
    "%matplotlib inline"
   ]
  },
  {
   "cell_type": "markdown",
   "id": "3b49da81-81f2-48c7-96d9-b82735bdb9b1",
   "metadata": {},
   "source": [
    "## READ THE IMAGE"
   ]
  },
  {
   "cell_type": "code",
   "execution_count": null,
   "id": "d4846487-2518-4a91-aa79-0751783a0fc4",
   "metadata": {},
   "outputs": [],
   "source": [
    "im_path = \"\"\n",
    "img=cv2.imread(im_path)"
   ]
  }
 ],
 "metadata": {
  "kernelspec": {
   "display_name": "Python 3 (ipykernel)",
   "language": "python",
   "name": "python3"
  },
  "language_info": {
   "codemirror_mode": {
    "name": "ipython",
    "version": 3
   },
   "file_extension": ".py",
   "mimetype": "text/x-python",
   "name": "python",
   "nbconvert_exporter": "python",
   "pygments_lexer": "ipython3",
   "version": "3.11.4"
  }
 },
 "nbformat": 4,
 "nbformat_minor": 5
}
